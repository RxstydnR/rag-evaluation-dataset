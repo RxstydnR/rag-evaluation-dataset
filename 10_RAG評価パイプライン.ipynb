{
 "cells": [
  {
   "cell_type": "markdown",
   "id": "78bb9689-d345-4172-b594-00e8ed07ea95",
   "metadata": {},
   "source": [
    "## import"
   ]
  },
  {
   "cell_type": "code",
   "execution_count": 3,
   "id": "cfb70541-e823-4bba-a709-2f3a2994f109",
   "metadata": {
    "tags": []
   },
   "outputs": [],
   "source": [
    "import os\n",
    "os.environ[\"OPENAI_API_KEY\"] = \"sk-\"\n",
    "\n",
    "import warnings\n",
    "warnings.simplefilter('ignore')\n",
    "\n",
    "import re\n",
    "import json\n",
    "import random\n",
    "import warnings\n",
    "import numpy as np\n",
    "import pandas as pd\n",
    "from tqdm import tqdm\n",
    "from functools import partial\n",
    "\n",
    "# config\n",
    "seed = 0\n",
    "np.random.seed(seed)\n",
    "\n",
    "warnings.simplefilter('ignore')\n",
    "pd.set_option('display.max_columns', None)\n",
    "pd.set_option('display.max_rows', None)\n",
    "pd.set_option(\"display.max_colwidth\", None)"
   ]
  },
  {
   "cell_type": "code",
   "execution_count": null,
   "id": "f2520ec9-10c1-4c96-9be9-26267abb410d",
   "metadata": {},
   "outputs": [],
   "source": [
    "# from langchain.embeddings.openai import OpenAIEmbeddings\n",
    "from langchain.llms import OpenAI\n",
    "from langchain.chat_models import ChatOpenAI\n",
    "from langchain_openai import OpenAIEmbeddings\n",
    "embedding_model = OpenAIEmbeddings(\n",
    "    model = 'text-embedding-ada-002',\n",
    "    # chunk_size = 1000\n",
    ")"
   ]
  },
  {
   "cell_type": "markdown",
   "id": "ed56bc51-62ea-4189-9158-d5d91723ee87",
   "metadata": {},
   "source": [
    "## 前処理"
   ]
  },
  {
   "cell_type": "code",
   "execution_count": 124,
   "id": "053e5648-1916-4958-a8be-12d857bfbf03",
   "metadata": {},
   "outputs": [],
   "source": [
    "from preprocess import preprocessing,remove_stopwords"
   ]
  },
  {
   "cell_type": "code",
   "execution_count": 125,
   "id": "d31543fb-7659-414a-9892-cd87fa28f255",
   "metadata": {},
   "outputs": [],
   "source": [
    "from janome.tokenizer import Tokenizer\n",
    "tokenizer = Tokenizer()\n",
    "def preprocess_jp_with_morph(text: str) -> List[str]:\n",
    "    \"\"\"日本語テキストを前処理してトークンリストを返す\"\"\"\n",
    "\n",
    "    # 改行コードの除去\n",
    "    # text = text.replace(\"\\n\", \"\")\n",
    "\n",
    "    # Janomeで特定の品詞のみのトークンリストを作成\n",
    "    pos_list = [\"名詞\", \"動詞\", \"形容詞\"]\n",
    "    tokens = tokenizer.tokenize(text)\n",
    "\n",
    "    # 指定した品詞に一致する単語を抽出\n",
    "    word_list = [token.surface for token in tokens if token.part_of_speech.split(',')[0] in pos_list]\n",
    "    \n",
    "    # ストップワードを削除\n",
    "    word_list = remove_stopwords(word_list)\n",
    "\n",
    "    return word_list"
   ]
  },
  {
   "cell_type": "code",
   "execution_count": 126,
   "id": "04cf851d-52b1-4e8c-81ee-e1857d5b8565",
   "metadata": {},
   "outputs": [],
   "source": [
    "from langchain_core.documents import Document\n",
    "def series2doc(data):\n",
    "    document = Document(\n",
    "        page_content=data[\"Reference\"],\n",
    "        metadata={\"id\": data[\"ID\"]}\n",
    "    )\n",
    "    return document"
   ]
  },
  {
   "cell_type": "markdown",
   "id": "8a2173aa-c66d-4914-b54c-ba9da864b05e",
   "metadata": {},
   "source": [
    "## Retrieverの準備"
   ]
  },
  {
   "cell_type": "code",
   "execution_count": 209,
   "id": "5f9ad851-aa2b-434e-a9a1-25575909747d",
   "metadata": {},
   "outputs": [],
   "source": [
    "from langchain.retrievers.bm25 import BM25Retriever\n",
    "# 形態素解析(名詞,動詞,形容詞)\n",
    "bm25_retriever = BM25Retriever.from_documents(\n",
    "    documents,\n",
    "    preprocess_func=preprocess_jp_with_morph,\n",
    ")\n",
    "bm25_retriever.k = 50"
   ]
  },
  {
   "cell_type": "code",
   "execution_count": 210,
   "id": "f97027af-3c10-4f75-b152-63ac0166f6cf",
   "metadata": {},
   "outputs": [],
   "source": [
    "# query = 'パスワードを忘れた'\n",
    "# docs = bm25_retriever.invoke(input=query)\n",
    "# docs[0]"
   ]
  },
  {
   "cell_type": "markdown",
   "id": "1ecea9a3-2260-4296-a6ad-5eeffea39e9f",
   "metadata": {},
   "source": [
    "## データセット読み込み（動作確認としてBM25で実行）"
   ]
  },
  {
   "cell_type": "code",
   "execution_count": null,
   "id": "910bb5c7-e92a-47a1-ab37-b28ea802e80c",
   "metadata": {},
   "outputs": [],
   "source": [
    "from langchain.retrievers.bm25 import BM25Retriever\n",
    "from evaluation import average_recall_at_k"
   ]
  },
  {
   "cell_type": "code",
   "execution_count": 236,
   "id": "9439e4b2-1109-462a-bd37-bca473acc3db",
   "metadata": {},
   "outputs": [],
   "source": [
    "# data_dir = \"./RAG評価データセット/dataset\"\n",
    "data_dir = \"./dataset\"\n",
    "data_list = [\n",
    "    # \"01_Abema\",\n",
    "    # \"02_Tokyo\",\n",
    "    \"03_Wikipedia\",\n",
    "    # \"04_Amagasaki\",\n",
    "    # data_05 = \"05_mr-tydi\" # データが大き過ぎる\n",
    "]"
   ]
  },
  {
   "cell_type": "code",
   "execution_count": null,
   "id": "96487286-87ba-4bbc-add4-3dbca65abf0b",
   "metadata": {},
   "outputs": [],
   "source": [
    "for data_path in data_list:\n",
    "    print(f\"TEST on {data_path} begins.\")\n",
    "    \n",
    "    # データの読み込み\n",
    "    print(f\"1. Reading Data...\")\n",
    "    df_qa = pd.read_csv(os.path.join(data_dir,data_path,\"QA.csv\"),index_col=0)\n",
    "    df_ref = pd.read_csv(os.path.join(data_dir,data_path,\"Reference.csv\"),index_col=0)\n",
    "\n",
    "    # IDはstring型に変換\n",
    "    if not isinstance(df_qa[\"ID\"].iloc[0],str):\n",
    "        df_qa[\"ID\"] = df_qa[\"ID\"].map(str)\n",
    "    \n",
    "    # 正解idが複数ある場合（リストとして読み込まれないためリスト型に変換）\n",
    "    if \"[\" in str(df_qa[\"ID\"].iloc[0]):\n",
    "        # isinstance(df_qa[\"ID\"].iloc[0],str) & (\n",
    "        import ast\n",
    "        df_qa[\"ID\"] = df_qa[\"ID\"].apply(ast.literal_eval)\n",
    "        print(\"適用\")\n",
    "    \n",
    "    # 参照ドキュメントの作成\n",
    "    documents = df_ref.apply(series2doc,axis=1)\n",
    "    print(f\"   N of Docs: {len(documents)}\")\n",
    "    \n",
    "    ##### 変更 ##############################################\n",
    "    print(f\"2. Building Retriever...\")\n",
    "    # 形態素解析(名詞,動詞,形容詞)\n",
    "    retriever = BM25Retriever.from_documents(\n",
    "        documents,\n",
    "        preprocess_func=preprocess_jp_with_morph,\n",
    "    )\n",
    "    retriever.k = 50\n",
    "\n",
    "    # Save BM25Retriever\n",
    "    # import json\n",
    "    # with open('BM25Retriever.json', 'w') as f:\n",
    "    #     data = bm25_retriever.to_json()\n",
    "    #     json.dump(data,f)\n",
    "    ########################################################\n",
    "\n",
    "    # 各QAごとに検索結果を取得\n",
    "    print(f\"3. Evaluating...\")\n",
    "    y_true_list,y_pred_list = [],[]\n",
    "    N_ALL_DOCS = df_ref.nunique()\n",
    "    for i in tqdm(range(len(df_qa))):\n",
    "        \n",
    "        # queryと正解refのidを取得\n",
    "        data = df_qa.iloc[i]\n",
    "        id_gt = data[\"ID\"]\n",
    "        query = data[\"Query\"]\n",
    "    \n",
    "        # 検索\n",
    "        docs = retriever.invoke(input=query)\n",
    "        # 検索結果のidリストを作成\n",
    "        y_pred = [str(doc.metadata['id']) for doc in docs]\n",
    "    \n",
    "        # 正解idをリストで追加\n",
    "        if not isinstance(id_gt,list):\n",
    "            id_gt = [id_gt]\n",
    "        y_true_list.append(id_gt)\n",
    "        \n",
    "        # 検索結果のidを追加\n",
    "        y_pred_list.append(y_pred)\n",
    "\n",
    "        # recall@k\n",
    "        k_list = [1,3,5,10,15,20,50]\n",
    "        index_list,recall_list = [],[]\n",
    "        for k in k_list:\n",
    "            \n",
    "            index = f\"Average recall@{k}\"\n",
    "            avg_recall_at_k = average_recall_at_k(y_true_list, y_pred_list, k)\n",
    "            avg_recall_at_k = round(avg_recall_at_k,3)\n",
    "            \n",
    "            index_list.append(index)\n",
    "            recall_list.append(avg_recall_at_k)\n",
    "        \n",
    "    df_result = pd.DataFrame(recall_list,index=index_list,columns=[\"value\"])\n",
    "    display(df_result)"
   ]
  },
  {
   "cell_type": "markdown",
   "id": "62436869-e76e-4e64-a29c-6448744e29e8",
   "metadata": {},
   "source": [
    "# memo"
   ]
  },
  {
   "cell_type": "code",
   "execution_count": null,
   "id": "1fc7f593-e23d-4324-b0d4-f330655499d1",
   "metadata": {},
   "outputs": [],
   "source": [
    "# from functools import partial\n",
    "# from langchain.retrievers.bm25 import BM25Retriever\n",
    "\n",
    "# # シノニム拡張なしa\n",
    "# bm25_retriever = BM25Retriever.from_texts(documents,preprocess_func=partial(preprocess_jp, sysnonim_extention=False))\n",
    "# bm25_retriever.k = 10\n",
    "# docs_without_sysnonim_extention = bm25_retriever.get_relevant_documents(query)\n",
    "\n",
    "# # シノニム拡張あり\n",
    "# bm25_retriever = BM25Retriever.from_texts(documents,preprocess_func=partial(preprocess_jp, sysnonim_extention=False))\n",
    "# # 検索用のシノニム拡張ありverの前処理を設定\n",
    "# bm25_retriever.preprocess_func = partial(preprocess_jp, sysnonim_extention=True) \n",
    "# bm25_retriever.k = 10\n",
    "# docs_with_sysnonim_extention = bm25_retriever.get_relevant_documents(query)"
   ]
  },
  {
   "cell_type": "code",
   "execution_count": 4,
   "id": "02f1f9ff-8ad3-40ee-9e80-b0919c9f5131",
   "metadata": {},
   "outputs": [],
   "source": [
    "# from langchain.vectorstores import FAISS\n",
    "# db = FAISS.from_documents(docs, embedding_model)\n",
    "# db.save_local(\"./2030JapanDigitalInnovation_byMcKinsey\")"
   ]
  },
  {
   "cell_type": "code",
   "execution_count": 10,
   "id": "42550138-0bbe-400a-9865-af9013800893",
   "metadata": {},
   "outputs": [],
   "source": [
    "# from langchain.vectorstores import FAISS\n",
    "# db = FAISS.load_local(\"./2030JapanDigitalInnovation_byMcKinsey\", embedding_model)\n",
    "# faiss_retriever = db.as_retriever()"
   ]
  },
  {
   "cell_type": "code",
   "execution_count": 244,
   "id": "199f22fc-c0c0-4d6c-bd07-f643ad9fb8a9",
   "metadata": {},
   "outputs": [],
   "source": [
    "# faiss_retriever_small = db_512.as_retriever() # .as_retriever(search_kwargs={\"k\": 7})\n",
    "# faiss_retriever_small.search_kwargs['k'] = 7"
   ]
  },
  {
   "cell_type": "code",
   "execution_count": null,
   "id": "8f2778de-48a3-4048-a8fb-76215d611799",
   "metadata": {
    "tags": []
   },
   "outputs": [],
   "source": [
    "# import MeCab\n",
    "# def preprocess_jp(text: str) -> List[str]:\n",
    "#     \"\"\"日本語テキストを前処理してトークンリストを返す\"\"\"\n",
    "\n",
    "#     # 改行コードの除去\n",
    "#     text = text.replace(\"\\n\", \"\")\n",
    "\n",
    "#     # Mecabで特定の品詞のみのトークンリストを作成\n",
    "#     pos_list = [\"名詞\", \"動詞\", \"形容詞\"]\n",
    "#     tagger = MeCab.Tagger()\n",
    "#     node = tagger.parseToNode(text)\n",
    "\n",
    "#     word_list = []\n",
    "#     while node:\n",
    "#         pos = node.feature.split(\",\")[0]\n",
    "#         if pos in pos_list:\n",
    "#             word = node.surface\n",
    "#             word_list.append(word)\n",
    "#         node = node.next\n",
    "#     return remove_stopwords(word_list)"
   ]
  },
  {
   "cell_type": "code",
   "execution_count": 103,
   "id": "14fb263b-7bfb-428f-b66d-33bff556406a",
   "metadata": {},
   "outputs": [],
   "source": [
    "# bm25_search = BM25Retriever(metadata=metadata,docs=docs,preprocess_func=preprocess_jp) # でもいい。\n",
    "bm25_retriever = BM25Retriever_.from_texts(texts,metadata,preprocess_func=preprocess_jp)\n",
    "bm25_retriever.k = 5"
   ]
  },
  {
   "cell_type": "code",
   "execution_count": 141,
   "id": "2399c354-1320-4f84-915b-026b363ee6ed",
   "metadata": {},
   "outputs": [],
   "source": [
    "# bm25_retriever.get_relevant_documents(\"マッキンゼー社とはについて解説してください。\")"
   ]
  },
  {
   "cell_type": "code",
   "execution_count": 109,
   "id": "ee538046-9681-47de-9a90-a15609556247",
   "metadata": {},
   "outputs": [],
   "source": []
  }
 ],
 "metadata": {
  "kernelspec": {
   "display_name": "Python 3 (ipykernel)",
   "language": "python",
   "name": "python3"
  },
  "language_info": {
   "codemirror_mode": {
    "name": "ipython",
    "version": 3
   },
   "file_extension": ".py",
   "mimetype": "text/x-python",
   "name": "python",
   "nbconvert_exporter": "python",
   "pygments_lexer": "ipython3",
   "version": "3.12.4"
  }
 },
 "nbformat": 4,
 "nbformat_minor": 5
}
