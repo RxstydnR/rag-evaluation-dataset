{
 "cells": [
  {
   "cell_type": "markdown",
   "id": "7b7abb9b-6e77-4370-9591-df9dbe51ea72",
   "metadata": {},
   "source": [
    "# AmebaブログのヘルプページFAQデータセットの作成"
   ]
  },
  {
   "cell_type": "markdown",
   "id": "797a62a2-eea3-47eb-9cef-5748a6d5884d",
   "metadata": {},
   "source": [
    "## 概要\n",
    "\n",
    "**データセットを以下の2種類のデータとして再構築する**  \n",
    "\n",
    "`df_qa`: Queryとその回答に必要な参考情報のID\n",
    "- Query: 質問\n",
    "- ID: 回答に必要な参考情報のID\n",
    "\n",
    "`df_ref`:\n",
    "- ID: 回答に必要な参考情報のID\n",
    "Reference: 参考情報"
   ]
  },
  {
   "cell_type": "markdown",
   "id": "7d38f653-c120-4c92-b543-68e9ace47b6c",
   "metadata": {},
   "source": [
    "## imports"
   ]
  },
  {
   "cell_type": "code",
   "execution_count": 4,
   "id": "3d9b59a0-92ae-431f-9eaa-e973f6da0be3",
   "metadata": {},
   "outputs": [],
   "source": [
    "import os\n",
    "import copy\n",
    "import pandas as pd\n",
    "\n",
    "import warnings\n",
    "warnings.simplefilter('ignore')"
   ]
  },
  {
   "cell_type": "markdown",
   "id": "dcfcabb6-7cb6-4ddf-8b34-7294d52bfc1d",
   "metadata": {},
   "source": [
    "## 1. [ai-shift/ameba_faq_search](https://huggingface.co/datasets/ai-shift/ameba_faq_search) からデータをダウンロード"
   ]
  },
  {
   "cell_type": "markdown",
   "id": "b1c5de01-2dce-4771-9239-c9ce23770882",
   "metadata": {},
   "source": [
    "## 2. データの読み込み"
   ]
  },
  {
   "cell_type": "code",
   "execution_count": 5,
   "id": "959e9abc-c461-4e28-8749-b0415a784314",
   "metadata": {},
   "outputs": [
    {
     "data": {
      "application/vnd.jupyter.widget-view+json": {
       "model_id": "c30a2033af98475c8a20114814902f19",
       "version_major": 2,
       "version_minor": 0
      },
      "text/plain": [
       "Downloading readme:   0%|          | 0.00/1.12k [00:00<?, ?B/s]"
      ]
     },
     "metadata": {},
     "output_type": "display_data"
    },
    {
     "data": {
      "application/vnd.jupyter.widget-view+json": {
       "model_id": "d7e8112b5d284ace82a9c2dcf1c40bdc",
       "version_major": 2,
       "version_minor": 0
      },
      "text/plain": [
       "Downloading data:   0%|          | 0.00/131k [00:00<?, ?B/s]"
      ]
     },
     "metadata": {},
     "output_type": "display_data"
    },
    {
     "data": {
      "application/vnd.jupyter.widget-view+json": {
       "model_id": "fddb954e0c754b50a75eda5b0efe9096",
       "version_major": 2,
       "version_minor": 0
      },
      "text/plain": [
       "Downloading data:   0%|          | 0.00/82.0k [00:00<?, ?B/s]"
      ]
     },
     "metadata": {},
     "output_type": "display_data"
    },
    {
     "data": {
      "application/vnd.jupyter.widget-view+json": {
       "model_id": "61ad3df15ece4232a9c1532ad437d7a9",
       "version_major": 2,
       "version_minor": 0
      },
      "text/plain": [
       "Downloading data:   0%|          | 0.00/83.3k [00:00<?, ?B/s]"
      ]
     },
     "metadata": {},
     "output_type": "display_data"
    },
    {
     "data": {
      "application/vnd.jupyter.widget-view+json": {
       "model_id": "a45d8beb0f5a4df7ab2e026a0bb226c3",
       "version_major": 2,
       "version_minor": 0
      },
      "text/plain": [
       "Generating train split:   0%|          | 0/1313 [00:00<?, ? examples/s]"
      ]
     },
     "metadata": {},
     "output_type": "display_data"
    },
    {
     "data": {
      "application/vnd.jupyter.widget-view+json": {
       "model_id": "60cccde55b0847e5acbadc942917ffba",
       "version_major": 2,
       "version_minor": 0
      },
      "text/plain": [
       "Generating validation split:   0%|          | 0/792 [00:00<?, ? examples/s]"
      ]
     },
     "metadata": {},
     "output_type": "display_data"
    },
    {
     "data": {
      "application/vnd.jupyter.widget-view+json": {
       "model_id": "e906eb9f4524436caa78f6d744ff70b9",
       "version_major": 2,
       "version_minor": 0
      },
      "text/plain": [
       "Generating test split:   0%|          | 0/837 [00:00<?, ? examples/s]"
      ]
     },
     "metadata": {},
     "output_type": "display_data"
    },
    {
     "data": {
      "application/vnd.jupyter.widget-view+json": {
       "model_id": "bbb19a15a5534bc28f88f631927fe439",
       "version_major": 2,
       "version_minor": 0
      },
      "text/plain": [
       "Downloading data:   0%|          | 0.00/582k [00:00<?, ?B/s]"
      ]
     },
     "metadata": {},
     "output_type": "display_data"
    },
    {
     "data": {
      "application/vnd.jupyter.widget-view+json": {
       "model_id": "6503240b7c0b4a37934ac3328cd28e2b",
       "version_major": 2,
       "version_minor": 0
      },
      "text/plain": [
       "Generating faq split: 0 examples [00:00, ? examples/s]"
      ]
     },
     "metadata": {},
     "output_type": "display_data"
    }
   ],
   "source": [
    "from datasets import load_dataset\n",
    "\n",
    "# LLMで生成したユーザーの想定質問\n",
    "query_dset = load_dataset(\"ai-shift/ameba_faq_search\")\n",
    "\n",
    "# 検索対象のFAQデータ\n",
    "faq_dset = load_dataset(\"ai-shift/ameba_faq_search\", data_files={\"faq\": \"target_faq.csv\"})"
   ]
  },
  {
   "cell_type": "code",
   "execution_count": 6,
   "id": "598acd71-919c-436e-8295-ddcea4ad7a97",
   "metadata": {},
   "outputs": [
    {
     "data": {
      "text/plain": [
       "dict_keys(['train', 'validation', 'test'])"
      ]
     },
     "execution_count": 6,
     "metadata": {},
     "output_type": "execute_result"
    }
   ],
   "source": [
    "query_dset.keys()"
   ]
  },
  {
   "cell_type": "code",
   "execution_count": 7,
   "id": "f687b597-035a-4277-afdf-a6abaf514f7f",
   "metadata": {},
   "outputs": [
    {
     "data": {
      "text/plain": [
       "dict_keys(['faq'])"
      ]
     },
     "execution_count": 7,
     "metadata": {},
     "output_type": "execute_result"
    }
   ],
   "source": [
    "faq_dset.keys()"
   ]
  },
  {
   "cell_type": "markdown",
   "id": "924c8e0e-dcfc-43d5-861e-0d01ec367f3c",
   "metadata": {},
   "source": [
    "## 3. 再構築"
   ]
  },
  {
   "cell_type": "code",
   "execution_count": 8,
   "id": "b95a19b8-fa6a-44d2-8596-78d77d4db428",
   "metadata": {},
   "outputs": [],
   "source": [
    "# FAQ\n",
    "df_ref = pd.DataFrame(faq_dset[\"faq\"])\n",
    "\n",
    "# Questions\n",
    "df_train = pd.DataFrame(query_dset[\"train\"])\n",
    "df_val   = pd.DataFrame(query_dset[\"validation\"])\n",
    "df_test  = pd.DataFrame(query_dset[\"test\"])"
   ]
  },
  {
   "cell_type": "code",
   "execution_count": 9,
   "id": "cb81727b-8d29-4b9f-8f67-45bd34ff3e13",
   "metadata": {},
   "outputs": [
    {
     "data": {
      "text/html": [
       "<div>\n",
       "<style scoped>\n",
       "    .dataframe tbody tr th:only-of-type {\n",
       "        vertical-align: middle;\n",
       "    }\n",
       "\n",
       "    .dataframe tbody tr th {\n",
       "        vertical-align: top;\n",
       "    }\n",
       "\n",
       "    .dataframe thead th {\n",
       "        text-align: right;\n",
       "    }\n",
       "</style>\n",
       "<table border=\"1\" class=\"dataframe\">\n",
       "  <thead>\n",
       "    <tr style=\"text-align: right;\">\n",
       "      <th></th>\n",
       "      <th>ID</th>\n",
       "      <th>Title</th>\n",
       "      <th>Content</th>\n",
       "    </tr>\n",
       "  </thead>\n",
       "  <tbody>\n",
       "    <tr>\n",
       "      <th>0</th>\n",
       "      <td>faq_000</td>\n",
       "      <td>画面が表示されない・記事が投稿できない</td>\n",
       "      <td>Amebaで障害が発生している場合は、スタッフブログやX(旧Twitter)でお知らせします...</td>\n",
       "    </tr>\n",
       "    <tr>\n",
       "      <th>1</th>\n",
       "      <td>faq_001</td>\n",
       "      <td>ログインできません</td>\n",
       "      <td>Amebaアプリにてログインができない場合、一度スマートフォンブラウザにて以下ログインフォー...</td>\n",
       "    </tr>\n",
       "    <tr>\n",
       "      <th>2</th>\n",
       "      <td>faq_002</td>\n",
       "      <td>退会したいのにログインができない</td>\n",
       "      <td>退会手続きはご自身でログインし行う必要があります。アメーバID・パスワードが分からない場合や...</td>\n",
       "    </tr>\n",
       "    <tr>\n",
       "      <th>3</th>\n",
       "      <td>faq_003</td>\n",
       "      <td>退会方法について</td>\n",
       "      <td>退会にあたってログインができない場合は、ヘルプページ(ログインできない)をご確認ください。\\...</td>\n",
       "    </tr>\n",
       "    <tr>\n",
       "      <th>4</th>\n",
       "      <td>faq_004</td>\n",
       "      <td>お知らせメールの設定場所・配信停止設定がわかりません</td>\n",
       "      <td>以下ページで設定いただいているメールアドレス宛に送信されます。\\n■会員登録情報ページ内「メ...</td>\n",
       "    </tr>\n",
       "  </tbody>\n",
       "</table>\n",
       "</div>"
      ],
      "text/plain": [
       "        ID                       Title  \\\n",
       "0  faq_000         画面が表示されない・記事が投稿できない   \n",
       "1  faq_001                   ログインできません   \n",
       "2  faq_002            退会したいのにログインができない   \n",
       "3  faq_003                    退会方法について   \n",
       "4  faq_004  お知らせメールの設定場所・配信停止設定がわかりません   \n",
       "\n",
       "                                             Content  \n",
       "0  Amebaで障害が発生している場合は、スタッフブログやX(旧Twitter)でお知らせします...  \n",
       "1  Amebaアプリにてログインができない場合、一度スマートフォンブラウザにて以下ログインフォー...  \n",
       "2  退会手続きはご自身でログインし行う必要があります。アメーバID・パスワードが分からない場合や...  \n",
       "3  退会にあたってログインができない場合は、ヘルプページ(ログインできない)をご確認ください。\\...  \n",
       "4  以下ページで設定いただいているメールアドレス宛に送信されます。\\n■会員登録情報ページ内「メ...  "
      ]
     },
     "execution_count": 9,
     "metadata": {},
     "output_type": "execute_result"
    }
   ],
   "source": [
    "df_ref.head()"
   ]
  },
  {
   "cell_type": "code",
   "execution_count": 10,
   "id": "604a4bf8-34cc-4f2f-8f30-30dbe7f982bb",
   "metadata": {},
   "outputs": [
    {
     "data": {
      "text/html": [
       "<div>\n",
       "<style scoped>\n",
       "    .dataframe tbody tr th:only-of-type {\n",
       "        vertical-align: middle;\n",
       "    }\n",
       "\n",
       "    .dataframe tbody tr th {\n",
       "        vertical-align: top;\n",
       "    }\n",
       "\n",
       "    .dataframe thead th {\n",
       "        text-align: right;\n",
       "    }\n",
       "</style>\n",
       "<table border=\"1\" class=\"dataframe\">\n",
       "  <thead>\n",
       "    <tr style=\"text-align: right;\">\n",
       "      <th></th>\n",
       "      <th>ID</th>\n",
       "      <th>Query</th>\n",
       "      <th>difficulty</th>\n",
       "    </tr>\n",
       "  </thead>\n",
       "  <tbody>\n",
       "    <tr>\n",
       "      <th>0</th>\n",
       "      <td>faq_001</td>\n",
       "      <td>パスワードを忘れた</td>\n",
       "      <td>easy</td>\n",
       "    </tr>\n",
       "    <tr>\n",
       "      <th>1</th>\n",
       "      <td>faq_001</td>\n",
       "      <td>メールアドレスにパスワード再設定通知が届かない</td>\n",
       "      <td>easy</td>\n",
       "    </tr>\n",
       "    <tr>\n",
       "      <th>2</th>\n",
       "      <td>faq_001</td>\n",
       "      <td>登録メールアドレスが分からない</td>\n",
       "      <td>easy</td>\n",
       "    </tr>\n",
       "    <tr>\n",
       "      <th>3</th>\n",
       "      <td>faq_001</td>\n",
       "      <td>パスワード再設定をしてもログインできない</td>\n",
       "      <td>easy</td>\n",
       "    </tr>\n",
       "    <tr>\n",
       "      <th>4</th>\n",
       "      <td>faq_001</td>\n",
       "      <td>ブログ管理画面へログインできない</td>\n",
       "      <td>easy</td>\n",
       "    </tr>\n",
       "  </tbody>\n",
       "</table>\n",
       "</div>"
      ],
      "text/plain": [
       "        ID                    Query difficulty\n",
       "0  faq_001                パスワードを忘れた       easy\n",
       "1  faq_001  メールアドレスにパスワード再設定通知が届かない       easy\n",
       "2  faq_001          登録メールアドレスが分からない       easy\n",
       "3  faq_001     パスワード再設定をしてもログインできない       easy\n",
       "4  faq_001         ブログ管理画面へログインできない       easy"
      ]
     },
     "execution_count": 10,
     "metadata": {},
     "output_type": "execute_result"
    }
   ],
   "source": [
    "df_train.head()"
   ]
  },
  {
   "cell_type": "markdown",
   "id": "6f5c655f-f76b-411d-8694-d914df8526db",
   "metadata": {},
   "source": [
    "<font size=4 color=\"indianred\">`df_train`のQueryに対する回答に必要な情報は、IDで紐づいている`df_faq`のContentになる。</font>"
   ]
  },
  {
   "cell_type": "code",
   "execution_count": 11,
   "id": "a9eaf718-c711-4a4f-bbf7-2a2db9ff7e5c",
   "metadata": {},
   "outputs": [],
   "source": [
    "df_train[\"dataset\"] = \"train\"\n",
    "df_test[\"dataset\"]  = \"test\"\n",
    "df_val[\"dataset\"]   = \"val\""
   ]
  },
  {
   "cell_type": "code",
   "execution_count": 12,
   "id": "63df17f2-18d8-4637-8c15-ca9ce8b9e4a7",
   "metadata": {},
   "outputs": [],
   "source": [
    "df = pd.concat([\n",
    "    df_train,df_val,df_test\n",
    "],axis=0)"
   ]
  },
  {
   "cell_type": "code",
   "execution_count": 13,
   "id": "a6d48c1e-37a9-4c9c-8f2f-136ee45e94c8",
   "metadata": {},
   "outputs": [
    {
     "data": {
      "text/plain": [
       "(2942, 4)"
      ]
     },
     "execution_count": 13,
     "metadata": {},
     "output_type": "execute_result"
    }
   ],
   "source": [
    "df.shape"
   ]
  },
  {
   "cell_type": "code",
   "execution_count": 14,
   "id": "ca39c155-e40a-47e5-9267-bbfd73d4eff0",
   "metadata": {},
   "outputs": [
    {
     "data": {
      "text/html": [
       "<div>\n",
       "<style scoped>\n",
       "    .dataframe tbody tr th:only-of-type {\n",
       "        vertical-align: middle;\n",
       "    }\n",
       "\n",
       "    .dataframe tbody tr th {\n",
       "        vertical-align: top;\n",
       "    }\n",
       "\n",
       "    .dataframe thead th {\n",
       "        text-align: right;\n",
       "    }\n",
       "</style>\n",
       "<table border=\"1\" class=\"dataframe\">\n",
       "  <thead>\n",
       "    <tr style=\"text-align: right;\">\n",
       "      <th></th>\n",
       "      <th>ID</th>\n",
       "      <th>Query</th>\n",
       "      <th>difficulty</th>\n",
       "      <th>dataset</th>\n",
       "    </tr>\n",
       "  </thead>\n",
       "  <tbody>\n",
       "    <tr>\n",
       "      <th>0</th>\n",
       "      <td>faq_001</td>\n",
       "      <td>パスワードを忘れた</td>\n",
       "      <td>easy</td>\n",
       "      <td>train</td>\n",
       "    </tr>\n",
       "    <tr>\n",
       "      <th>1</th>\n",
       "      <td>faq_001</td>\n",
       "      <td>メールアドレスにパスワード再設定通知が届かない</td>\n",
       "      <td>easy</td>\n",
       "      <td>train</td>\n",
       "    </tr>\n",
       "  </tbody>\n",
       "</table>\n",
       "</div>"
      ],
      "text/plain": [
       "        ID                    Query difficulty dataset\n",
       "0  faq_001                パスワードを忘れた       easy   train\n",
       "1  faq_001  メールアドレスにパスワード再設定通知が届かない       easy   train"
      ]
     },
     "execution_count": 14,
     "metadata": {},
     "output_type": "execute_result"
    }
   ],
   "source": [
    "df_qa = df\n",
    "df_qa.head(2)"
   ]
  },
  {
   "cell_type": "code",
   "execution_count": 15,
   "id": "d9a764f6-de00-4abf-b4c5-255581201594",
   "metadata": {},
   "outputs": [],
   "source": [
    "df_ref = df_ref.rename(columns={\"Content\":\"Reference\"}).drop(\"Title\",axis=1)"
   ]
  },
  {
   "cell_type": "code",
   "execution_count": 16,
   "id": "78c4cb79-26fe-4043-95cd-16e4e65a9298",
   "metadata": {},
   "outputs": [
    {
     "data": {
      "text/html": [
       "<div>\n",
       "<style scoped>\n",
       "    .dataframe tbody tr th:only-of-type {\n",
       "        vertical-align: middle;\n",
       "    }\n",
       "\n",
       "    .dataframe tbody tr th {\n",
       "        vertical-align: top;\n",
       "    }\n",
       "\n",
       "    .dataframe thead th {\n",
       "        text-align: right;\n",
       "    }\n",
       "</style>\n",
       "<table border=\"1\" class=\"dataframe\">\n",
       "  <thead>\n",
       "    <tr style=\"text-align: right;\">\n",
       "      <th></th>\n",
       "      <th>ID</th>\n",
       "      <th>Reference</th>\n",
       "    </tr>\n",
       "  </thead>\n",
       "  <tbody>\n",
       "    <tr>\n",
       "      <th>0</th>\n",
       "      <td>faq_000</td>\n",
       "      <td>Amebaで障害が発生している場合は、スタッフブログやX(旧Twitter)でお知らせします...</td>\n",
       "    </tr>\n",
       "    <tr>\n",
       "      <th>1</th>\n",
       "      <td>faq_001</td>\n",
       "      <td>Amebaアプリにてログインができない場合、一度スマートフォンブラウザにて以下ログインフォー...</td>\n",
       "    </tr>\n",
       "  </tbody>\n",
       "</table>\n",
       "</div>"
      ],
      "text/plain": [
       "        ID                                          Reference\n",
       "0  faq_000  Amebaで障害が発生している場合は、スタッフブログやX(旧Twitter)でお知らせします...\n",
       "1  faq_001  Amebaアプリにてログインができない場合、一度スマートフォンブラウザにて以下ログインフォー..."
      ]
     },
     "execution_count": 16,
     "metadata": {},
     "output_type": "execute_result"
    }
   ],
   "source": [
    "df_ref.head(2)"
   ]
  },
  {
   "cell_type": "markdown",
   "id": "4a03b402-cfa6-43a7-9f25-d04fa41530ad",
   "metadata": {},
   "source": [
    "## 4. 保存"
   ]
  },
  {
   "cell_type": "code",
   "execution_count": 18,
   "id": "a40a8d4b-2649-4455-8db1-0c67812e50fd",
   "metadata": {},
   "outputs": [],
   "source": [
    "dataset_dir = \"./dataset/01_Abema\"\n",
    "os.makedirs(dataset_dir)\n",
    "df_ref.to_csv(\"./dataset/01_Abema/Reference.csv\")\n",
    "df_qa.to_csv(\"./dataset/01_Abema/QA.csv\")"
   ]
  },
  {
   "cell_type": "code",
   "execution_count": 19,
   "id": "a819f685-cf21-4b16-a882-7ff88c1468a9",
   "metadata": {},
   "outputs": [
    {
     "name": "stdout",
     "output_type": "stream",
     "text": [
      "/Users/ryoyakatafuchi/Desktop/workspace/vector/notebooks\n"
     ]
    }
   ],
   "source": [
    "!pwd"
   ]
  },
  {
   "cell_type": "code",
   "execution_count": 90,
   "id": "aa5386ad-2250-412a-8f56-b37b2c8721dc",
   "metadata": {},
   "outputs": [
    {
     "data": {
      "text/plain": [
       "((461, 2), 461)"
      ]
     },
     "execution_count": 90,
     "metadata": {},
     "output_type": "execute_result"
    }
   ],
   "source": [
    "df_ref.shape,df_ref[\"ID\"].nunique()"
   ]
  },
  {
   "cell_type": "markdown",
   "id": "7925c68a-8473-4011-8370-9d1ee34d682d",
   "metadata": {},
   "source": [
    "## Abema FAQを利用している参考記事\n",
    "- https://www.ai-shift.co.jp/techblog/3710\n",
    "- https://www.ai-shift.co.jp/techblog/3761"
   ]
  }
 ],
 "metadata": {
  "kernelspec": {
   "display_name": "Python 3 (ipykernel)",
   "language": "python",
   "name": "python3"
  },
  "language_info": {
   "codemirror_mode": {
    "name": "ipython",
    "version": 3
   },
   "file_extension": ".py",
   "mimetype": "text/x-python",
   "name": "python",
   "nbconvert_exporter": "python",
   "pygments_lexer": "ipython3",
   "version": "3.12.4"
  }
 },
 "nbformat": 4,
 "nbformat_minor": 5
}
