{
 "cells": [
  {
   "cell_type": "markdown",
   "id": "72df885b-5cbf-4df0-ae5e-ba671465a49e",
   "metadata": {},
   "source": [
    "# Mr. TyDi"
   ]
  },
  {
   "cell_type": "markdown",
   "id": "28154d0c-4c0d-4705-bff9-f4f8af676ed6",
   "metadata": {},
   "source": [
    "## 概要\n",
    "\n",
    "**データセットを以下の2種類のデータとして再構築する**  \n",
    "\n",
    "`df_qa`: Queryとその回答に必要な参考情報のID\n",
    "- Query: 質問\n",
    "- ID: 回答に必要な参考情報のID\n",
    "\n",
    "`df_ref`:\n",
    "- ID: 回答に必要な参考情報のID\n",
    "Reference: 参考情報"
   ]
  },
  {
   "cell_type": "markdown",
   "id": "b886f8b6-83ae-45ee-ad6f-2d881c9f67e8",
   "metadata": {},
   "source": [
    "## imports"
   ]
  },
  {
   "cell_type": "code",
   "execution_count": 41,
   "id": "c6ca517d-16e7-4d9c-b917-367abf64a000",
   "metadata": {},
   "outputs": [],
   "source": [
    "import os\n",
    "import copy\n",
    "import pandas as pd\n",
    "from typing import List\n",
    "\n",
    "import warnings\n",
    "warnings.simplefilter('ignore')\n",
    "\n",
    "pd.set_option('display.max_columns', None)\n",
    "pd.set_option('display.max_rows',None)\n",
    "pd.set_option(\"display.width\", 100)\n",
    "pd.set_option(\"display.max_colwidth\", None)"
   ]
  },
  {
   "cell_type": "markdown",
   "id": "8f8ce272-f478-4c36-af5d-fe201e087d0b",
   "metadata": {},
   "source": [
    "## 1. Hugging Faceからコーパスををダウンロード\n",
    "- https://github.com/castorini/mr.tydi"
   ]
  },
  {
   "cell_type": "code",
   "execution_count": 42,
   "id": "1ab5b432-478f-4988-be8e-95df5280a2bf",
   "metadata": {},
   "outputs": [],
   "source": [
    "# !pip install datasets"
   ]
  },
  {
   "cell_type": "code",
   "execution_count": 43,
   "id": "d65f75e9-7c22-4395-b995-492149de0ce0",
   "metadata": {},
   "outputs": [
    {
     "name": "stderr",
     "output_type": "stream",
     "text": [
      "Using the latest cached version of the module from /Users/ryoyakatafuchi/.cache/huggingface/modules/datasets_modules/datasets/castorini--mr-tydi-corpus/e03356656eff551e40ab09e74d102c56320e0fbf44f0219f1dd20d524663663c (last modified on Thu Jul 25 01:09:58 2024) since it couldn't be found locally at castorini/mr-tydi-corpus, or remotely on the Hugging Face Hub.\n"
     ]
    }
   ],
   "source": [
    "from datasets import load_dataset\n",
    "corpus_dataset = load_dataset(\n",
    "    \"castorini/mr-tydi-corpus\",\n",
    "    \"japanese\",\n",
    "    split=\"train\",\n",
    "    trust_remote_code=True,\n",
    ")"
   ]
  },
  {
   "cell_type": "code",
   "execution_count": 58,
   "id": "d346c60a-b836-416e-b938-cf8073faca0c",
   "metadata": {},
   "outputs": [],
   "source": [
    "df_ref = corpus_dataset.to_pandas()"
   ]
  },
  {
   "cell_type": "code",
   "execution_count": 65,
   "id": "e82245e7-21c6-427e-b42e-85dd80725a4e",
   "metadata": {},
   "outputs": [],
   "source": [
    "df_ref = df_ref.rename(columns={\"docid\":\"ID\",\"text\":\"Reference\"})"
   ]
  },
  {
   "cell_type": "code",
   "execution_count": 66,
   "id": "03d950b6-8d31-4167-91c3-6b8d9998d3de",
   "metadata": {},
   "outputs": [
    {
     "data": {
      "text/html": [
       "<div>\n",
       "<style scoped>\n",
       "    .dataframe tbody tr th:only-of-type {\n",
       "        vertical-align: middle;\n",
       "    }\n",
       "\n",
       "    .dataframe tbody tr th {\n",
       "        vertical-align: top;\n",
       "    }\n",
       "\n",
       "    .dataframe thead th {\n",
       "        text-align: right;\n",
       "    }\n",
       "</style>\n",
       "<table border=\"1\" class=\"dataframe\">\n",
       "  <thead>\n",
       "    <tr style=\"text-align: right;\">\n",
       "      <th></th>\n",
       "      <th>ID</th>\n",
       "      <th>title</th>\n",
       "      <th>Reference</th>\n",
       "    </tr>\n",
       "  </thead>\n",
       "  <tbody>\n",
       "    <tr>\n",
       "      <th>0</th>\n",
       "      <td>5#0</td>\n",
       "      <td>アンパサンド</td>\n",
       "      <td>アンパサンド (&amp;、英語名：) とは並立助詞「…と…」を意味する記号である。ラテン語の の合字で、Trebuchet MSフォントでは、と表示され \"et\" の合字であることが容易にわかる。ampersa、すなわち \"and per se and\"、その意味は\"and [the symbol which] by itself [is] and\"である。</td>\n",
       "    </tr>\n",
       "    <tr>\n",
       "      <th>1</th>\n",
       "      <td>5#1</td>\n",
       "      <td>アンパサンド</td>\n",
       "      <td>その使用は1世紀に遡ることができ、5世紀中葉から現代に至るまでの変遷がわかる。\\nZ に続くラテン文字アルファベットの27字目とされた時期もある。</td>\n",
       "    </tr>\n",
       "  </tbody>\n",
       "</table>\n",
       "</div>"
      ],
      "text/plain": [
       "    ID   title  \\\n",
       "0  5#0  アンパサンド   \n",
       "1  5#1  アンパサンド   \n",
       "\n",
       "                                                                                                                                                                           Reference  \n",
       "0  アンパサンド (&、英語名：) とは並立助詞「…と…」を意味する記号である。ラテン語の の合字で、Trebuchet MSフォントでは、と表示され \"et\" の合字であることが容易にわかる。ampersa、すなわち \"and per se and\"、その意味は\"and [the symbol which] by itself [is] and\"である。  \n",
       "1                                                                                                          その使用は1世紀に遡ることができ、5世紀中葉から現代に至るまでの変遷がわかる。\\nZ に続くラテン文字アルファベットの27字目とされた時期もある。  "
      ]
     },
     "execution_count": 66,
     "metadata": {},
     "output_type": "execute_result"
    }
   ],
   "source": [
    "df_ref.head(2)"
   ]
  },
  {
   "cell_type": "markdown",
   "id": "ebad3a6f-a3a6-480d-a070-6fe21ef2d5b5",
   "metadata": {},
   "source": [
    "## 2. Hugging FaceからQAデータセットをダウンロード"
   ]
  },
  {
   "cell_type": "code",
   "execution_count": 46,
   "id": "8eeb4edc-c471-4503-a934-0402e0f9eb35",
   "metadata": {},
   "outputs": [],
   "source": [
    "qa_dataset = load_dataset(\n",
    "    \"castorini/mr-tydi\",\n",
    "    \"japanese\",\n",
    "    split=\"test\",\n",
    "    trust_remote_code=True,\n",
    ")"
   ]
  },
  {
   "cell_type": "code",
   "execution_count": 47,
   "id": "c4571592-8d30-4776-99d6-fb66c0492da5",
   "metadata": {},
   "outputs": [],
   "source": [
    "df_qa = qa_dataset.to_pandas()"
   ]
  },
  {
   "cell_type": "markdown",
   "id": "0cf7915c-a235-463f-a1d7-dbc758a92e0c",
   "metadata": {},
   "source": [
    "## 3. docid の抽出"
   ]
  },
  {
   "cell_type": "code",
   "execution_count": 48,
   "id": "8f6a8161-83c3-4147-aeba-04097c7c8893",
   "metadata": {},
   "outputs": [],
   "source": [
    "def get_docid(data):\n",
    "    return [d[\"docid\"] for d in data]\n",
    "        \n",
    "df_qa[\"ID\"] = df_qa[\"positive_passages\"].map(get_docid)"
   ]
  },
  {
   "cell_type": "code",
   "execution_count": 49,
   "id": "20cedc6e-f114-4171-a507-9dbbecfcf044",
   "metadata": {},
   "outputs": [
    {
     "data": {
      "text/plain": [
       "0               [88104#2]\n",
       "1             [1635294#0]\n",
       "2               [2279#12]\n",
       "3    [477816#0, 477816#3]\n",
       "4              [33474#12]\n",
       "Name: ID, dtype: object"
      ]
     },
     "execution_count": 49,
     "metadata": {},
     "output_type": "execute_result"
    }
   ],
   "source": [
    "df_qa[\"ID\"].head()"
   ]
  },
  {
   "cell_type": "code",
   "execution_count": 61,
   "id": "d13805c4-c151-4554-b812-2c8dcc09f035",
   "metadata": {},
   "outputs": [
    {
     "data": {
      "text/plain": [
       "set()"
      ]
     },
     "execution_count": 61,
     "metadata": {},
     "output_type": "execute_result"
    }
   ],
   "source": [
    "# df_qa内のdocidが全てdf_ref内のdoc_idに含まれているかを確認\n",
    "docids = df_ref[\"ID\"].unique()\n",
    "docids_qa = sum(df_qa[\"ID\"].values,[])\n",
    "set(docids_qa) - set(docids)"
   ]
  },
  {
   "cell_type": "markdown",
   "id": "7375966d-498d-4e03-85ad-3b137de953b9",
   "metadata": {},
   "source": [
    "## 4. 保存"
   ]
  },
  {
   "cell_type": "code",
   "execution_count": 63,
   "id": "046fb88b-9303-4760-b845-012f452e0e1d",
   "metadata": {},
   "outputs": [
    {
     "data": {
      "text/html": [
       "<div>\n",
       "<style scoped>\n",
       "    .dataframe tbody tr th:only-of-type {\n",
       "        vertical-align: middle;\n",
       "    }\n",
       "\n",
       "    .dataframe tbody tr th {\n",
       "        vertical-align: top;\n",
       "    }\n",
       "\n",
       "    .dataframe thead th {\n",
       "        text-align: right;\n",
       "    }\n",
       "</style>\n",
       "<table border=\"1\" class=\"dataframe\">\n",
       "  <thead>\n",
       "    <tr style=\"text-align: right;\">\n",
       "      <th></th>\n",
       "      <th>ID</th>\n",
       "      <th>title</th>\n",
       "      <th>text</th>\n",
       "    </tr>\n",
       "  </thead>\n",
       "  <tbody>\n",
       "    <tr>\n",
       "      <th>0</th>\n",
       "      <td>5#0</td>\n",
       "      <td>アンパサンド</td>\n",
       "      <td>アンパサンド (&amp;、英語名：) とは並立助詞「…と…」を意味する記号である。ラテン語の の合字で、Trebuchet MSフォントでは、と表示され \"et\" の合字であることが容易にわかる。ampersa、すなわち \"and per se and\"、その意味は\"and [the symbol which] by itself [is] and\"である。</td>\n",
       "    </tr>\n",
       "    <tr>\n",
       "      <th>1</th>\n",
       "      <td>5#1</td>\n",
       "      <td>アンパサンド</td>\n",
       "      <td>その使用は1世紀に遡ることができ、5世紀中葉から現代に至るまでの変遷がわかる。\\nZ に続くラテン文字アルファベットの27字目とされた時期もある。</td>\n",
       "    </tr>\n",
       "    <tr>\n",
       "      <th>2</th>\n",
       "      <td>5#2</td>\n",
       "      <td>アンパサンド</td>\n",
       "      <td>アンパサンドと同じ役割を果たす文字に「のet」と呼ばれる、数字の「7」に似た記号があった(, U+204A)。この記号は現在もゲール文字で使われている。</td>\n",
       "    </tr>\n",
       "    <tr>\n",
       "      <th>3</th>\n",
       "      <td>5#3</td>\n",
       "      <td>アンパサンド</td>\n",
       "      <td>記号名の「アンパサンド」は、ラテン語まじりの英語「&amp; はそれ自身 \"and\" を表す」(&amp; per se and) のくずれた形である。英語以外の言語での名称は多様である。</td>\n",
       "    </tr>\n",
       "    <tr>\n",
       "      <th>4</th>\n",
       "      <td>5#4</td>\n",
       "      <td>アンパサンド</td>\n",
       "      <td>日常的な手書きの場合、欧米でアンパサンドは「ε」に縦線を引く単純化されたものが使われることがある。</td>\n",
       "    </tr>\n",
       "  </tbody>\n",
       "</table>\n",
       "</div>"
      ],
      "text/plain": [
       "    ID   title  \\\n",
       "0  5#0  アンパサンド   \n",
       "1  5#1  アンパサンド   \n",
       "2  5#2  アンパサンド   \n",
       "3  5#3  アンパサンド   \n",
       "4  5#4  アンパサンド   \n",
       "\n",
       "                                                                                                                                                                                text  \n",
       "0  アンパサンド (&、英語名：) とは並立助詞「…と…」を意味する記号である。ラテン語の の合字で、Trebuchet MSフォントでは、と表示され \"et\" の合字であることが容易にわかる。ampersa、すなわち \"and per se and\"、その意味は\"and [the symbol which] by itself [is] and\"である。  \n",
       "1                                                                                                          その使用は1世紀に遡ることができ、5世紀中葉から現代に至るまでの変遷がわかる。\\nZ に続くラテン文字アルファベットの27字目とされた時期もある。  \n",
       "2                                                                                                       アンパサンドと同じ役割を果たす文字に「のet」と呼ばれる、数字の「7」に似た記号があった(, U+204A)。この記号は現在もゲール文字で使われている。  \n",
       "3                                                                                             記号名の「アンパサンド」は、ラテン語まじりの英語「& はそれ自身 \"and\" を表す」(& per se and) のくずれた形である。英語以外の言語での名称は多様である。  \n",
       "4                                                                                                                                  日常的な手書きの場合、欧米でアンパサンドは「ε」に縦線を引く単純化されたものが使われることがある。  "
      ]
     },
     "execution_count": 63,
     "metadata": {},
     "output_type": "execute_result"
    }
   ],
   "source": [
    "df_ref.head()"
   ]
  },
  {
   "cell_type": "code",
   "execution_count": 67,
   "id": "1c8bd9a6-35e1-4641-9865-29c61b2a8c4e",
   "metadata": {},
   "outputs": [],
   "source": [
    "dataset_dir = \"./dataset/05_mr-tydi\"\n",
    "# os.makedirs(dataset_dir)\n",
    "df_ref.to_csv(\"./dataset/05_mr-tydi/Reference.csv\")\n",
    "# df_qa.to_csv(\"./dataset/05_mr-tydi/QA.csv\")"
   ]
  },
  {
   "cell_type": "code",
   "execution_count": null,
   "id": "57b7d48b-825d-4851-96a6-4e736209f4fe",
   "metadata": {},
   "outputs": [],
   "source": []
  }
 ],
 "metadata": {
  "kernelspec": {
   "display_name": "Python 3 (ipykernel)",
   "language": "python",
   "name": "python3"
  },
  "language_info": {
   "codemirror_mode": {
    "name": "ipython",
    "version": 3
   },
   "file_extension": ".py",
   "mimetype": "text/x-python",
   "name": "python",
   "nbconvert_exporter": "python",
   "pygments_lexer": "ipython3",
   "version": "3.12.4"
  }
 },
 "nbformat": 4,
 "nbformat_minor": 5
}
