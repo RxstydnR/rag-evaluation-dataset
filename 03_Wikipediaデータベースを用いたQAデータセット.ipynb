{
 "cells": [
  {
   "cell_type": "markdown",
   "id": "0dceab71-2254-4ebc-9918-08521d1a7e69",
   "metadata": {},
   "source": [
    "# Wikipediaデータベースを用いたQAデータセット"
   ]
  },
  {
   "cell_type": "markdown",
   "id": "139869f3-2279-4819-b202-21c1680e267d",
   "metadata": {
    "jp-MarkdownHeadingCollapsed": true
   },
   "source": [
    "## 概要\n",
    "\n",
    "**データセットを以下の2種類のデータとして再構築する**  \n",
    "\n",
    "`df_qa`: Queryとその回答に必要な参考情報のID\n",
    "- Query: 質問\n",
    "- ID: 回答に必要な参考情報のID\n",
    "\n",
    "`df_ref`:\n",
    "- ID: 回答に必要な参考情報のID\n",
    "Reference: 参考情報"
   ]
  },
  {
   "cell_type": "markdown",
   "id": "0454060f-42df-4728-b6b0-8ae097c47d02",
   "metadata": {},
   "source": [
    "## imports"
   ]
  },
  {
   "cell_type": "code",
   "execution_count": 1,
   "id": "2bf8a429-3a72-4d06-aeae-dd318109410d",
   "metadata": {},
   "outputs": [],
   "source": [
    "import os\n",
    "import copy\n",
    "import pandas as pd\n",
    "\n",
    "import warnings\n",
    "warnings.simplefilter('ignore')"
   ]
  },
  {
   "cell_type": "markdown",
   "id": "62a1dcf8-90e1-41e2-879f-0f5dc345e7e2",
   "metadata": {},
   "source": [
    "## 1. 以下に従ってデータをダウンロード\n",
    "\n",
    "[AI学習データ構築のバオバブ、 LLM（大規模言語モデル）の精度を高めるRAG用データセット作成サービスを開始　〜サンプルデータの無料配布も](https://prtimes.jp/main/html/rd/p/000000004.000112000.html)\n",
    "\n",
    "`参考`\n",
    "\n",
    "以下ではエラーが出るため、ファイルを直接ダウンロードする必要あり。\n",
    "```python\n",
    "from datasets import load_dataset\n",
    "dataset = load_dataset(\"baobab-trees/wikipedia-human-retrieval-ja\")\n",
    "```"
   ]
  },
  {
   "cell_type": "markdown",
   "id": "adf33370-ed61-49fb-9003-9f23b498f128",
   "metadata": {},
   "source": [
    "## 2. データの読み込み"
   ]
  },
  {
   "cell_type": "code",
   "execution_count": 2,
   "id": "07d521fc-e8a5-4ab7-858d-abdda6d21d0d",
   "metadata": {},
   "outputs": [],
   "source": [
    "import pandas as pd\n",
    "df_answered = pd.read_json('/Users/macbookpro/Downloads/data_answered.jsonl', orient='records', lines=True)\n",
    "df_n_answered = pd.read_json('/Users/macbookpro/Downloads/data_not_answered.jsonl', orient='records', lines=True)"
   ]
  },
  {
   "cell_type": "code",
   "execution_count": 3,
   "id": "3961b3ad-c405-4663-b83c-9c1d211c295e",
   "metadata": {},
   "outputs": [],
   "source": [
    "df_all = pd.concat([df_answered,df_n_answered],axis=0)"
   ]
  },
  {
   "cell_type": "code",
   "execution_count": 4,
   "id": "658a4ac2-2ef5-47e6-849f-ace9449aae13",
   "metadata": {},
   "outputs": [
    {
     "data": {
      "text/html": [
       "<div>\n",
       "<style scoped>\n",
       "    .dataframe tbody tr th:only-of-type {\n",
       "        vertical-align: middle;\n",
       "    }\n",
       "\n",
       "    .dataframe tbody tr th {\n",
       "        vertical-align: top;\n",
       "    }\n",
       "\n",
       "    .dataframe thead th {\n",
       "        text-align: right;\n",
       "    }\n",
       "</style>\n",
       "<table border=\"1\" class=\"dataframe\">\n",
       "  <thead>\n",
       "    <tr style=\"text-align: right;\">\n",
       "      <th></th>\n",
       "      <th>id</th>\n",
       "      <th>question</th>\n",
       "      <th>answer</th>\n",
       "      <th>references</th>\n",
       "    </tr>\n",
       "  </thead>\n",
       "  <tbody>\n",
       "    <tr>\n",
       "      <th>0</th>\n",
       "      <td>1</td>\n",
       "      <td>経済産業省の役割について知りたい。</td>\n",
       "      <td>{'text': '経済産業省は、日本の行政機関のひとつです。経済および産業の発展ならびに鉱...</td>\n",
       "      <td>[{'search': {'keywords': ['経済産業省']}, 'page': {...</td>\n",
       "    </tr>\n",
       "  </tbody>\n",
       "</table>\n",
       "</div>"
      ],
      "text/plain": [
       "   id           question                                             answer  \\\n",
       "0   1  経済産業省の役割について知りたい。  {'text': '経済産業省は、日本の行政機関のひとつです。経済および産業の発展ならびに鉱...   \n",
       "\n",
       "                                          references  \n",
       "0  [{'search': {'keywords': ['経済産業省']}, 'page': {...  "
      ]
     },
     "execution_count": 4,
     "metadata": {},
     "output_type": "execute_result"
    }
   ],
   "source": [
    "df_all.head(1)"
   ]
  },
  {
   "cell_type": "markdown",
   "id": "5353d7fb-5eb1-4dc7-9b90-3cf8b44784d5",
   "metadata": {},
   "source": [
    "## 3. `df_qa` と `df_ref` に分割"
   ]
  },
  {
   "cell_type": "code",
   "execution_count": 5,
   "id": "fa6985f0-8256-4244-8cc5-2971ca07ba2c",
   "metadata": {},
   "outputs": [],
   "source": [
    "df_all  = df_all.rename(columns={\"id\":\"ID\",\"question\":\"Query\",\"answer\":\"Answer\",\"references\":\"Reference\"})\n",
    "df_qa = df_all[[\"ID\",\"Query\",\"Answer\"]]\n",
    "df_ref = df_all[[\"ID\",\"Reference\"]]"
   ]
  },
  {
   "cell_type": "markdown",
   "id": "b03d9c4b-bf5d-4598-bd4a-157dd60e32cd",
   "metadata": {},
   "source": [
    "## 4. Answerカラム内のデータ整形"
   ]
  },
  {
   "cell_type": "code",
   "execution_count": 6,
   "id": "64d48095-8b45-4e4c-b9a3-519dd9c6f4f9",
   "metadata": {},
   "outputs": [
    {
     "name": "stderr",
     "output_type": "stream",
     "text": [
      "/var/folders/7f/5z41mf8x4ksbcxbf7vsr0fs40000gn/T/ipykernel_15171/990881788.py:7: SettingWithCopyWarning: \n",
      "A value is trying to be set on a copy of a slice from a DataFrame.\n",
      "Try using .loc[row_indexer,col_indexer] = value instead\n",
      "\n",
      "See the caveats in the documentation: https://pandas.pydata.org/pandas-docs/stable/user_guide/indexing.html#returning-a-view-versus-a-copy\n",
      "  df_qa[\"Answer\"] = df_qa[\"Answer\"].map(extract_answer)\n"
     ]
    }
   ],
   "source": [
    "def extract_answer(x):\n",
    "    if pd.notna(x):\n",
    "        if \"text\" in x.keys():\n",
    "            return x[\"text\"]\n",
    "    else:\n",
    "        return x\n",
    "df_qa[\"Answer\"] = df_qa[\"Answer\"].map(extract_answer)"
   ]
  },
  {
   "cell_type": "code",
   "execution_count": 7,
   "id": "6a1bc512-5f0c-4427-aa4a-15280a0bdf2c",
   "metadata": {},
   "outputs": [
    {
     "data": {
      "text/html": [
       "<div>\n",
       "<style scoped>\n",
       "    .dataframe tbody tr th:only-of-type {\n",
       "        vertical-align: middle;\n",
       "    }\n",
       "\n",
       "    .dataframe tbody tr th {\n",
       "        vertical-align: top;\n",
       "    }\n",
       "\n",
       "    .dataframe thead th {\n",
       "        text-align: right;\n",
       "    }\n",
       "</style>\n",
       "<table border=\"1\" class=\"dataframe\">\n",
       "  <thead>\n",
       "    <tr style=\"text-align: right;\">\n",
       "      <th></th>\n",
       "      <th>ID</th>\n",
       "      <th>Query</th>\n",
       "      <th>Answer</th>\n",
       "    </tr>\n",
       "  </thead>\n",
       "  <tbody>\n",
       "    <tr>\n",
       "      <th>0</th>\n",
       "      <td>1</td>\n",
       "      <td>経済産業省の役割について知りたい。</td>\n",
       "      <td>経済産業省は、日本の行政機関のひとつです。経済および産業の発展ならびに鉱物資源およびエネルギ...</td>\n",
       "    </tr>\n",
       "    <tr>\n",
       "      <th>1</th>\n",
       "      <td>2</td>\n",
       "      <td>確定申告のやり方を教えて欲しい。</td>\n",
       "      <td>確定申告書は、申告時点での住所地を管轄する税務署へ郵送するか、直接持参するか、e-Taxで申...</td>\n",
       "    </tr>\n",
       "  </tbody>\n",
       "</table>\n",
       "</div>"
      ],
      "text/plain": [
       "   ID              Query                                             Answer\n",
       "0   1  経済産業省の役割について知りたい。  経済産業省は、日本の行政機関のひとつです。経済および産業の発展ならびに鉱物資源およびエネルギ...\n",
       "1   2   確定申告のやり方を教えて欲しい。  確定申告書は、申告時点での住所地を管轄する税務署へ郵送するか、直接持参するか、e-Taxで申..."
      ]
     },
     "execution_count": 7,
     "metadata": {},
     "output_type": "execute_result"
    }
   ],
   "source": [
    "df_qa.head(2)"
   ]
  },
  {
   "cell_type": "code",
   "execution_count": 8,
   "id": "ddf84a90-2510-483e-8d91-2b7530facf35",
   "metadata": {},
   "outputs": [
    {
     "data": {
      "text/html": [
       "<div>\n",
       "<style scoped>\n",
       "    .dataframe tbody tr th:only-of-type {\n",
       "        vertical-align: middle;\n",
       "    }\n",
       "\n",
       "    .dataframe tbody tr th {\n",
       "        vertical-align: top;\n",
       "    }\n",
       "\n",
       "    .dataframe thead th {\n",
       "        text-align: right;\n",
       "    }\n",
       "</style>\n",
       "<table border=\"1\" class=\"dataframe\">\n",
       "  <thead>\n",
       "    <tr style=\"text-align: right;\">\n",
       "      <th></th>\n",
       "      <th>ID</th>\n",
       "      <th>Reference</th>\n",
       "    </tr>\n",
       "  </thead>\n",
       "  <tbody>\n",
       "    <tr>\n",
       "      <th>0</th>\n",
       "      <td>1</td>\n",
       "      <td>[{'search': {'keywords': ['経済産業省']}, 'page': {...</td>\n",
       "    </tr>\n",
       "    <tr>\n",
       "      <th>1</th>\n",
       "      <td>2</td>\n",
       "      <td>[{'search': {'keywords': ['確定申告']}, 'page': {'...</td>\n",
       "    </tr>\n",
       "  </tbody>\n",
       "</table>\n",
       "</div>"
      ],
      "text/plain": [
       "   ID                                          Reference\n",
       "0   1  [{'search': {'keywords': ['経済産業省']}, 'page': {...\n",
       "1   2  [{'search': {'keywords': ['確定申告']}, 'page': {'..."
      ]
     },
     "execution_count": 8,
     "metadata": {},
     "output_type": "execute_result"
    }
   ],
   "source": [
    "df_ref.head(2)"
   ]
  },
  {
   "cell_type": "markdown",
   "id": "cd78f013-32b6-4bb4-8442-196fd2bb845a",
   "metadata": {},
   "source": [
    "## 5. Referenceの(id,ref)のペアの作成"
   ]
  },
  {
   "cell_type": "code",
   "execution_count": 12,
   "id": "15892dfc-73ce-47b0-b043-9b3dd49e9929",
   "metadata": {},
   "outputs": [],
   "source": [
    "# referenceの(id,ref)のペアの作成\n",
    "pairs=[]\n",
    "for i in range(len(df_ref)):\n",
    "    data = df_ref.iloc[i]\n",
    "    id = data[\"ID\"]\n",
    "    refs = data[\"Reference\"]\n",
    "    for i,r in enumerate(refs):\n",
    "        pairs.append((str(id),r))\n",
    "        # pairs.append((str(id).zfill(3)+\"-\"+str(i).zfill(2),r))"
   ]
  },
  {
   "cell_type": "markdown",
   "id": "e902dfc4-7c59-4877-9130-3d4cc74b283a",
   "metadata": {},
   "source": [
    "## 6. 情報抽出"
   ]
  },
  {
   "cell_type": "code",
   "execution_count": 13,
   "id": "96d2ebc0-8320-4e8b-9232-73302a2f351f",
   "metadata": {},
   "outputs": [],
   "source": [
    "# textが入ってるものだけを取り出し\n",
    "contents=[]\n",
    "for p in pairs:\n",
    "    \n",
    "    search=\"\"\n",
    "    if \"search\" in p[1].keys():\n",
    "        search=p[1][\"search\"][\"keywords\"][0]\n",
    "\n",
    "    title=\"\"\n",
    "    text=\"\"\n",
    "    if \"page\" in p[1].keys():\n",
    "        if \"title\" in p[1][\"page\"].keys():\n",
    "            title = p[1][\"page\"][\"title\"]\n",
    "        if \"quote\" in p[1][\"page\"].keys():\n",
    "            if \"text\" in p[1][\"page\"][\"quote\"].keys():\n",
    "                text = p[1][\"page\"][\"quote\"][\"text\"]\n",
    "                contents.append((p[0],search,title,text))\n",
    "            else:\n",
    "                continue"
   ]
  },
  {
   "cell_type": "markdown",
   "id": "35c187a0-b87a-4e4d-bf69-bd113c899ac1",
   "metadata": {},
   "source": [
    "## 7. `df_ref` の作成"
   ]
  },
  {
   "cell_type": "code",
   "execution_count": 14,
   "id": "753148f0-22e1-43b9-a1d9-14c751a7cfcb",
   "metadata": {},
   "outputs": [],
   "source": [
    "# df_refの作成\n",
    "df_ref = pd.DataFrame(contents,columns=[\"ID\",\"SearchKeyword\",\"PageTitle\",\"Reference\"])\n",
    "df_ref = df_ref[[\"ID\",\"Reference\",\"SearchKeyword\",\"PageTitle\"]]"
   ]
  },
  {
   "cell_type": "code",
   "execution_count": 15,
   "id": "18047adc-f5f5-4ac3-b64b-aca7625c237d",
   "metadata": {},
   "outputs": [
    {
     "data": {
      "text/html": [
       "<div>\n",
       "<style scoped>\n",
       "    .dataframe tbody tr th:only-of-type {\n",
       "        vertical-align: middle;\n",
       "    }\n",
       "\n",
       "    .dataframe tbody tr th {\n",
       "        vertical-align: top;\n",
       "    }\n",
       "\n",
       "    .dataframe thead th {\n",
       "        text-align: right;\n",
       "    }\n",
       "</style>\n",
       "<table border=\"1\" class=\"dataframe\">\n",
       "  <thead>\n",
       "    <tr style=\"text-align: right;\">\n",
       "      <th></th>\n",
       "      <th>ID</th>\n",
       "      <th>Reference</th>\n",
       "      <th>SearchKeyword</th>\n",
       "      <th>PageTitle</th>\n",
       "    </tr>\n",
       "  </thead>\n",
       "  <tbody>\n",
       "    <tr>\n",
       "      <th>0</th>\n",
       "      <td>1</td>\n",
       "      <td>経済産業省（けいざいさんぎょうしょう、英: Ministry of Economy, Tra...</td>\n",
       "      <td>経済産業省</td>\n",
       "      <td>経済産業省</td>\n",
       "    </tr>\n",
       "    <tr>\n",
       "      <th>1</th>\n",
       "      <td>1</td>\n",
       "      <td>経済産業省設置法第3条の定める任務である「民間の経済活力の向上及び対外経済関係の円滑な発展を...</td>\n",
       "      <td>経済産業省</td>\n",
       "      <td>経済産業省</td>\n",
       "    </tr>\n",
       "    <tr>\n",
       "      <th>2</th>\n",
       "      <td>2</td>\n",
       "      <td>作成した確定申告書は、申告時点での住所地を管轄する税務署へ郵送するか、直接持参するか、e-T...</td>\n",
       "      <td>確定申告</td>\n",
       "      <td>確定申告</td>\n",
       "    </tr>\n",
       "    <tr>\n",
       "      <th>3</th>\n",
       "      <td>3</td>\n",
       "      <td>もう1つの論点である経済性では、原材料の枯渇に伴う価格高騰を理由としている。EVは莫大な鉱物...</td>\n",
       "      <td>電気自動車</td>\n",
       "      <td>電気自動車</td>\n",
       "    </tr>\n",
       "    <tr>\n",
       "      <th>4</th>\n",
       "      <td>4</td>\n",
       "      <td>李秉喆が早稲田大学中退後、馬山にて友人2人と1万円ずつ出資し設立した協同精米所の事業が失敗、...</td>\n",
       "      <td>サムスン</td>\n",
       "      <td>サムスングループ</td>\n",
       "    </tr>\n",
       "  </tbody>\n",
       "</table>\n",
       "</div>"
      ],
      "text/plain": [
       "  ID                                          Reference SearchKeyword  \\\n",
       "0  1  経済産業省（けいざいさんぎょうしょう、英: Ministry of Economy, Tra...         経済産業省   \n",
       "1  1  経済産業省設置法第3条の定める任務である「民間の経済活力の向上及び対外経済関係の円滑な発展を...         経済産業省   \n",
       "2  2  作成した確定申告書は、申告時点での住所地を管轄する税務署へ郵送するか、直接持参するか、e-T...          確定申告   \n",
       "3  3  もう1つの論点である経済性では、原材料の枯渇に伴う価格高騰を理由としている。EVは莫大な鉱物...         電気自動車   \n",
       "4  4  李秉喆が早稲田大学中退後、馬山にて友人2人と1万円ずつ出資し設立した協同精米所の事業が失敗、...          サムスン   \n",
       "\n",
       "  PageTitle  \n",
       "0     経済産業省  \n",
       "1     経済産業省  \n",
       "2      確定申告  \n",
       "3     電気自動車  \n",
       "4  サムスングループ  "
      ]
     },
     "execution_count": 15,
     "metadata": {},
     "output_type": "execute_result"
    }
   ],
   "source": [
    "df_ref.head(5)"
   ]
  },
  {
   "cell_type": "code",
   "execution_count": 16,
   "id": "0d59baa3-1ad3-4d26-aba0-8799be3a6cd8",
   "metadata": {},
   "outputs": [
    {
     "data": {
      "text/html": [
       "<div>\n",
       "<style scoped>\n",
       "    .dataframe tbody tr th:only-of-type {\n",
       "        vertical-align: middle;\n",
       "    }\n",
       "\n",
       "    .dataframe tbody tr th {\n",
       "        vertical-align: top;\n",
       "    }\n",
       "\n",
       "    .dataframe thead th {\n",
       "        text-align: right;\n",
       "    }\n",
       "</style>\n",
       "<table border=\"1\" class=\"dataframe\">\n",
       "  <thead>\n",
       "    <tr style=\"text-align: right;\">\n",
       "      <th></th>\n",
       "      <th>ID</th>\n",
       "      <th>Query</th>\n",
       "      <th>Answer</th>\n",
       "    </tr>\n",
       "  </thead>\n",
       "  <tbody>\n",
       "    <tr>\n",
       "      <th>0</th>\n",
       "      <td>1</td>\n",
       "      <td>経済産業省の役割について知りたい。</td>\n",
       "      <td>経済産業省は、日本の行政機関のひとつです。経済および産業の発展ならびに鉱物資源およびエネルギ...</td>\n",
       "    </tr>\n",
       "    <tr>\n",
       "      <th>1</th>\n",
       "      <td>2</td>\n",
       "      <td>確定申告のやり方を教えて欲しい。</td>\n",
       "      <td>確定申告書は、申告時点での住所地を管轄する税務署へ郵送するか、直接持参するか、e-Taxで申...</td>\n",
       "    </tr>\n",
       "  </tbody>\n",
       "</table>\n",
       "</div>"
      ],
      "text/plain": [
       "   ID              Query                                             Answer\n",
       "0   1  経済産業省の役割について知りたい。  経済産業省は、日本の行政機関のひとつです。経済および産業の発展ならびに鉱物資源およびエネルギ...\n",
       "1   2   確定申告のやり方を教えて欲しい。  確定申告書は、申告時点での住所地を管轄する税務署へ郵送するか、直接持参するか、e-Taxで申..."
      ]
     },
     "execution_count": 16,
     "metadata": {},
     "output_type": "execute_result"
    }
   ],
   "source": [
    "df_qa.head(2)"
   ]
  },
  {
   "cell_type": "code",
   "execution_count": 17,
   "id": "d434eeff-e39e-4f36-a780-231f70c29c17",
   "metadata": {},
   "outputs": [
    {
     "data": {
      "text/plain": [
       "((1651, 4), 818)"
      ]
     },
     "execution_count": 17,
     "metadata": {},
     "output_type": "execute_result"
    }
   ],
   "source": [
    "df_ref.shape,df_ref[\"ID\"].nunique()"
   ]
  },
  {
   "cell_type": "markdown",
   "id": "b59b565d-ff6f-49af-87f0-07060c09c8e0",
   "metadata": {},
   "source": [
    "## 8. 保存"
   ]
  },
  {
   "cell_type": "code",
   "execution_count": 19,
   "id": "917f3c2f-598a-465c-b085-30d88cec203b",
   "metadata": {},
   "outputs": [],
   "source": [
    "import os\n",
    "dataset_dir = \"./dataset/Wikipedia\"\n",
    "os.makedirs(dataset_dir,exist_ok=True)\n",
    "df_ref.to_csv(dataset_dir+\"/Reference.csv\")\n",
    "df_qa.to_csv(dataset_dir+\"/QA.csv\")"
   ]
  }
 ],
 "metadata": {
  "kernelspec": {
   "display_name": "Python 3 (ipykernel)",
   "language": "python",
   "name": "python3"
  },
  "language_info": {
   "codemirror_mode": {
    "name": "ipython",
    "version": 3
   },
   "file_extension": ".py",
   "mimetype": "text/x-python",
   "name": "python",
   "nbconvert_exporter": "python",
   "pygments_lexer": "ipython3",
   "version": "3.12.4"
  }
 },
 "nbformat": 4,
 "nbformat_minor": 5
}
