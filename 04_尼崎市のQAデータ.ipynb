{
 "cells": [
  {
   "cell_type": "markdown",
   "id": "72df885b-5cbf-4df0-ae5e-ba671465a49e",
   "metadata": {},
   "source": [
    "# 尼崎市のQAデータ"
   ]
  },
  {
   "cell_type": "markdown",
   "id": "28154d0c-4c0d-4705-bff9-f4f8af676ed6",
   "metadata": {},
   "source": [
    "## 概要\n",
    "\n",
    "**データセットを以下の2種類のデータとして再構築する**  \n",
    "\n",
    "`df_qa`: Queryとその回答に必要な参考情報のID\n",
    "- Query: 質問\n",
    "- ID: 回答に必要な参考情報のID\n",
    "\n",
    "`df_ref`:\n",
    "- ID: 回答に必要な参考情報のID\n",
    "Reference: 参考情報"
   ]
  },
  {
   "cell_type": "markdown",
   "id": "b886f8b6-83ae-45ee-ad6f-2d881c9f67e8",
   "metadata": {},
   "source": [
    "## imports"
   ]
  },
  {
   "cell_type": "code",
   "execution_count": 56,
   "id": "c6ca517d-16e7-4d9c-b917-367abf64a000",
   "metadata": {},
   "outputs": [],
   "source": [
    "import os\n",
    "import copy\n",
    "import pandas as pd\n",
    "from typing import List\n",
    "\n",
    "import warnings\n",
    "warnings.simplefilter('ignore')\n",
    "\n",
    "pd.set_option('display.max_columns', None)\n",
    "pd.set_option('display.max_rows',None)\n",
    "pd.set_option(\"display.width\", 100)\n",
    "pd.set_option(\"display.max_colwidth\", None)"
   ]
  },
  {
   "cell_type": "markdown",
   "id": "af8f809b-591d-472d-88e6-b971d0204277",
   "metadata": {},
   "source": [
    "## 1. [尼崎市のQAデータ](https://github.com/ku-nlp/bert-based-faqir/tree/master)リポジトリをダウンロードしてdownload.shを実行する\n",
    "\n",
    "`データの取り扱いの参考記事`  \n",
    "- [Azure AI Searchを使った同義語によるクエリ拡張とその効果\n",
    "](https://hironsan.hatenablog.com/entry/information-retrieval-with-synonyms)"
   ]
  },
  {
   "cell_type": "markdown",
   "id": "8f8ce272-f478-4c36-af5d-fe201e087d0b",
   "metadata": {},
   "source": [
    "## 2. 質問と参考情報IDデータの読み込み"
   ]
  },
  {
   "cell_type": "code",
   "execution_count": 58,
   "id": "f36daac0-7c19-46f0-9ffa-675f2156d994",
   "metadata": {},
   "outputs": [
    {
     "data": {
      "text/plain": [
       "(784, 4)"
      ]
     },
     "execution_count": 58,
     "metadata": {},
     "output_type": "execute_result"
    }
   ],
   "source": [
    "# クエリを含む評価データ\n",
    "df_qa = pd.read_csv(\"./dataset/04_Amagasaki/bert-based-faqir-master/data/localgovfaq/testset.txt\", sep='\\t', header=None)\n",
    "df_qa.columns = [\"Query\",\"A\",\"B\",\"C\"]\n",
    "df_qa.shape"
   ]
  },
  {
   "cell_type": "code",
   "execution_count": 59,
   "id": "9c432a24-ebb3-43a6-8a2f-ab835015d9dc",
   "metadata": {},
   "outputs": [
    {
     "data": {
      "text/html": [
       "<div>\n",
       "<style scoped>\n",
       "    .dataframe tbody tr th:only-of-type {\n",
       "        vertical-align: middle;\n",
       "    }\n",
       "\n",
       "    .dataframe tbody tr th {\n",
       "        vertical-align: top;\n",
       "    }\n",
       "\n",
       "    .dataframe thead th {\n",
       "        text-align: right;\n",
       "    }\n",
       "</style>\n",
       "<table border=\"1\" class=\"dataframe\">\n",
       "  <thead>\n",
       "    <tr style=\"text-align: right;\">\n",
       "      <th></th>\n",
       "      <th>Query</th>\n",
       "      <th>A</th>\n",
       "      <th>B</th>\n",
       "      <th>C</th>\n",
       "    </tr>\n",
       "  </thead>\n",
       "  <tbody>\n",
       "    <tr>\n",
       "      <th>0</th>\n",
       "      <td>国民年金の免除申請をしたいのですが、申請に必要な持ち物は何を持っていけば良いですか？</td>\n",
       "      <td>71 87</td>\n",
       "      <td>469</td>\n",
       "      <td>36</td>\n",
       "    </tr>\n",
       "    <tr>\n",
       "      <th>1</th>\n",
       "      <td>忍たま乱太郎の施設などはオープンしないのですか</td>\n",
       "      <td>NaN</td>\n",
       "      <td>1770 1769</td>\n",
       "      <td>NaN</td>\n",
       "    </tr>\n",
       "  </tbody>\n",
       "</table>\n",
       "</div>"
      ],
      "text/plain": [
       "                                        Query      A          B    C\n",
       "0  国民年金の免除申請をしたいのですが、申請に必要な持ち物は何を持っていけば良いですか？  71 87        469   36\n",
       "1                     忍たま乱太郎の施設などはオープンしないのですか    NaN  1770 1769  NaN"
      ]
     },
     "execution_count": 59,
     "metadata": {},
     "output_type": "execute_result"
    }
   ],
   "source": [
    "df_qa.head(2)"
   ]
  },
  {
   "cell_type": "markdown",
   "id": "58d39c97-b901-4591-904e-56b3047df6b5",
   "metadata": {},
   "source": [
    "**データの説明**\n",
    "- 2~4列目には正解となるデータのIDがレベル毎に記録されている。レベルはA,B,Cの３種類で以下の詳細を参照。\n",
    "- **IDは qas/questions_Amagasaki.txt と qas/answers_in_Amagasaki.txtの行数に対応している。**\n",
    "```\n",
    "A: 正解を含む.\n",
    "B: 関連情報を含む.\n",
    "C: トピックは同じだが、関連情報は含んでいない.\n",
    "```"
   ]
  },
  {
   "cell_type": "markdown",
   "id": "1ad8fb92-d5ba-4f85-b6ba-b4a9f44e2bb9",
   "metadata": {},
   "source": [
    "## 3. 正解IDの取り出し"
   ]
  },
  {
   "cell_type": "code",
   "execution_count": 60,
   "id": "8e0a1066-4854-4bf0-a8a5-5f928bab86a0",
   "metadata": {},
   "outputs": [],
   "source": [
    "def unify_ids(x,include_ids=[\"A\",\"B\",\"C\"]):\n",
    "    ids = \" \".join([str(x[c]) for c in include_ids])\n",
    "    ids = [x for x in ids.split(\" \") if len(x)>0]\n",
    "    return ids\n",
    "\n",
    "df_qa[[\"A\",\"B\",\"C\"]] = df_qa[[\"A\",\"B\",\"C\"]].fillna(\"\")\n",
    "\n",
    "# 3段階のレベルに対応した正解IDを構築\n",
    "df_qa[\"ID_ABC\"] = df_qa.apply(unify_ids, axis=1,include_ids=([\"A\",\"B\",\"C\"]))\n",
    "df_qa[\"ID_AB\"] = df_qa.apply(unify_ids, axis=1,include_ids=([\"A\",\"B\"]))\n",
    "df_qa[\"ID_A\"] = df_qa.apply(unify_ids, axis=1,include_ids=([\"A\"]))"
   ]
  },
  {
   "cell_type": "code",
   "execution_count": 65,
   "id": "c8742ed6-0435-4520-866d-666a410d04e4",
   "metadata": {},
   "outputs": [],
   "source": [
    "df_qa[\"ID\"] = df_qa[\"ID_ABC\"]"
   ]
  },
  {
   "cell_type": "code",
   "execution_count": 66,
   "id": "c72a8794-9cbb-4ae0-bf48-8e715231d14e",
   "metadata": {},
   "outputs": [
    {
     "data": {
      "text/html": [
       "<div>\n",
       "<style scoped>\n",
       "    .dataframe tbody tr th:only-of-type {\n",
       "        vertical-align: middle;\n",
       "    }\n",
       "\n",
       "    .dataframe tbody tr th {\n",
       "        vertical-align: top;\n",
       "    }\n",
       "\n",
       "    .dataframe thead th {\n",
       "        text-align: right;\n",
       "    }\n",
       "</style>\n",
       "<table border=\"1\" class=\"dataframe\">\n",
       "  <thead>\n",
       "    <tr style=\"text-align: right;\">\n",
       "      <th></th>\n",
       "      <th>Query</th>\n",
       "      <th>A</th>\n",
       "      <th>B</th>\n",
       "      <th>C</th>\n",
       "      <th>ID_ABC</th>\n",
       "      <th>ID_AB</th>\n",
       "      <th>ID_A</th>\n",
       "      <th>ID</th>\n",
       "    </tr>\n",
       "  </thead>\n",
       "  <tbody>\n",
       "    <tr>\n",
       "      <th>0</th>\n",
       "      <td>国民年金の免除申請をしたいのですが、申請に必要な持ち物は何を持っていけば良いですか？</td>\n",
       "      <td>71 87</td>\n",
       "      <td>469</td>\n",
       "      <td>36</td>\n",
       "      <td>[71, 87, 469, 36]</td>\n",
       "      <td>[71, 87, 469]</td>\n",
       "      <td>[71, 87]</td>\n",
       "      <td>[71, 87, 469, 36]</td>\n",
       "    </tr>\n",
       "    <tr>\n",
       "      <th>1</th>\n",
       "      <td>忍たま乱太郎の施設などはオープンしないのですか</td>\n",
       "      <td></td>\n",
       "      <td>1770 1769</td>\n",
       "      <td></td>\n",
       "      <td>[1770, 1769]</td>\n",
       "      <td>[1770, 1769]</td>\n",
       "      <td>[]</td>\n",
       "      <td>[1770, 1769]</td>\n",
       "    </tr>\n",
       "    <tr>\n",
       "      <th>2</th>\n",
       "      <td>人口が伸び悩む尼崎市ですが、明石市の様な子ども医療費助成を取り入れる計画はありますか？</td>\n",
       "      <td></td>\n",
       "      <td></td>\n",
       "      <td>593 375</td>\n",
       "      <td>[593, 375]</td>\n",
       "      <td>[]</td>\n",
       "      <td>[]</td>\n",
       "      <td>[593, 375]</td>\n",
       "    </tr>\n",
       "  </tbody>\n",
       "</table>\n",
       "</div>"
      ],
      "text/plain": [
       "                                         Query      A          B        C             ID_ABC  \\\n",
       "0   国民年金の免除申請をしたいのですが、申請に必要な持ち物は何を持っていけば良いですか？  71 87        469       36  [71, 87, 469, 36]   \n",
       "1                      忍たま乱太郎の施設などはオープンしないのですか         1770 1769                [1770, 1769]   \n",
       "2  人口が伸び悩む尼崎市ですが、明石市の様な子ども医療費助成を取り入れる計画はありますか？                    593 375         [593, 375]   \n",
       "\n",
       "           ID_AB      ID_A                 ID  \n",
       "0  [71, 87, 469]  [71, 87]  [71, 87, 469, 36]  \n",
       "1   [1770, 1769]        []       [1770, 1769]  \n",
       "2             []        []         [593, 375]  "
      ]
     },
     "execution_count": 66,
     "metadata": {},
     "output_type": "execute_result"
    }
   ],
   "source": [
    "df_qa.head(3)"
   ]
  },
  {
   "cell_type": "markdown",
   "id": "332fc1f8-d7e9-475b-bd4a-ff5837b071fb",
   "metadata": {},
   "source": [
    "## 4. 検索対象データ（尼崎市のQAデータ）の読み込み"
   ]
  },
  {
   "cell_type": "markdown",
   "id": "48e5eecc-da66-481c-89d6-d8f2e21f797f",
   "metadata": {},
   "source": [
    "尼崎市のQAデータは、`df`内のQueryを過去のQ&A(`df_question`と`df_answer`)を検索して参考に回答するタスクを想定している。そのため、`df_question`は不要。"
   ]
  },
  {
   "cell_type": "code",
   "execution_count": 62,
   "id": "685e5afe-48c7-461d-83f1-081e9d6e648e",
   "metadata": {},
   "outputs": [
    {
     "name": "stdout",
     "output_type": "stream",
     "text": [
      "(1786, 1) (1786, 1)\n",
      "(1786, 2)\n"
     ]
    },
    {
     "data": {
      "text/html": [
       "<div>\n",
       "<style scoped>\n",
       "    .dataframe tbody tr th:only-of-type {\n",
       "        vertical-align: middle;\n",
       "    }\n",
       "\n",
       "    .dataframe tbody tr th {\n",
       "        vertical-align: top;\n",
       "    }\n",
       "\n",
       "    .dataframe thead th {\n",
       "        text-align: right;\n",
       "    }\n",
       "</style>\n",
       "<table border=\"1\" class=\"dataframe\">\n",
       "  <thead>\n",
       "    <tr style=\"text-align: right;\">\n",
       "      <th></th>\n",
       "      <th>ID</th>\n",
       "      <th>Reference</th>\n",
       "    </tr>\n",
       "  </thead>\n",
       "  <tbody>\n",
       "    <tr>\n",
       "      <th>0</th>\n",
       "      <td>0</td>\n",
       "      <td>■市には乳幼児（乳児）とその親が集う場として、次のような取組をしています。以下のいずれについて知りたいですか。１．つどいの広場事業、すこやかプラザ運営事業子育て支援ゾーンＰＡＬ。２．保育所子育て支援事業。３．幼稚園すこやか子育て事業。４．子育てサークル活動支援事業。５．子育て学習世代間交流事業。６．双子のための育児教室学級。７．健康教室。</td>\n",
       "    </tr>\n",
       "    <tr>\n",
       "      <th>1</th>\n",
       "      <td>1</td>\n",
       "      <td>■地域総合センター今北には、十分な駐車場がございませんので、市バスをご利用ください。ＪＲ沿線からは「立花駅」、阪急沿線からは「塚口駅」「武庫之荘駅」、阪神沿線からは「尼崎駅」「武庫川駅」「出屋敷駅」へお越しいただき、市バスをご利用ください。どちらの駅からいらっしゃいますか？。１．ＪＲ立花駅から（位置的には、南西へ徒歩約１０分です。）。２．阪急塚口駅（南）から。３．阪急武庫之荘駅（南）から。４．阪神尼崎駅（北）から。５．阪神武庫川駅から。６．阪神出屋敷駅（北）から。＜改＞。【関連するＦＡＱ】。地域総合センターについて知りたい。＜改＞。【お問い合わせ】。地域総合センター今北。尼崎市西立花町３丁目１４－１。電話０６－６４１６－５７２９。</td>\n",
       "    </tr>\n",
       "  </tbody>\n",
       "</table>\n",
       "</div>"
      ],
      "text/plain": [
       "   ID  \\\n",
       "0   0   \n",
       "1   1   \n",
       "\n",
       "                                                                                                                                                                                                                                                                                                                         Reference  \n",
       "0                                                                                                                                                       ■市には乳幼児（乳児）とその親が集う場として、次のような取組をしています。以下のいずれについて知りたいですか。１．つどいの広場事業、すこやかプラザ運営事業子育て支援ゾーンＰＡＬ。２．保育所子育て支援事業。３．幼稚園すこやか子育て事業。４．子育てサークル活動支援事業。５．子育て学習世代間交流事業。６．双子のための育児教室学級。７．健康教室。  \n",
       "1  ■地域総合センター今北には、十分な駐車場がございませんので、市バスをご利用ください。ＪＲ沿線からは「立花駅」、阪急沿線からは「塚口駅」「武庫之荘駅」、阪神沿線からは「尼崎駅」「武庫川駅」「出屋敷駅」へお越しいただき、市バスをご利用ください。どちらの駅からいらっしゃいますか？。１．ＪＲ立花駅から（位置的には、南西へ徒歩約１０分です。）。２．阪急塚口駅（南）から。３．阪急武庫之荘駅（南）から。４．阪神尼崎駅（北）から。５．阪神武庫川駅から。６．阪神出屋敷駅（北）から。＜改＞。【関連するＦＡＱ】。地域総合センターについて知りたい。＜改＞。【お問い合わせ】。地域総合センター今北。尼崎市西立花町３丁目１４－１。電話０６－６４１６－５７２９。  "
      ]
     },
     "execution_count": 62,
     "metadata": {},
     "output_type": "execute_result"
    }
   ],
   "source": [
    "# 検索対象データ（尼崎市のQAデータ）\n",
    "df_question = pd.read_csv(\"./dataset/04_Amagasaki/bert-based-faqir-master/data/localgovfaq/qas/questions_in_Amagasaki.txt\", index_col=0, sep='\\t', header=None)\n",
    "df_answer = pd.read_csv(\"./dataset/04_Amagasaki/bert-based-faqir-master/data/localgovfaq/qas/answers_in_Amagasaki.txt\", index_col=0, sep='\\t', header=None)\n",
    "\n",
    "print(df_question.shape,df_answer.shape)\n",
    "\n",
    "# 統合\n",
    "df_ref = pd.concat([df_question,df_answer],axis=1)\n",
    "df_ref.columns = [\"Query\",\"Reference\"]\n",
    "\n",
    "# 不要な空白を削除\n",
    "df_ref[\"Query\"] = df_ref[\"Query\"].map(lambda x:x.replace(\" \",\"\"))\n",
    "df_ref[\"Reference\"] = df_ref[\"Reference\"].map(lambda x:x.replace(\" \",\"\"))\n",
    "df_ref = df_ref.reset_index(drop=True)\n",
    "df_ref[\"ID\"] = list(range(len(df_ref)))\n",
    "df_ref = df_ref[[\"ID\",\"Reference\"]] # \"Query\"は不要のためDrop\n",
    "print(df_ref.shape)\n",
    "\n",
    "df_ref.head(2)"
   ]
  },
  {
   "cell_type": "code",
   "execution_count": 63,
   "id": "cdae9bba-303b-4a19-868a-3487343797cf",
   "metadata": {},
   "outputs": [
    {
     "data": {
      "text/plain": [
       "1756"
      ]
     },
     "execution_count": 63,
     "metadata": {},
     "output_type": "execute_result"
    }
   ],
   "source": [
    "# df_ref[\"Query\"].nunique(),\n",
    "df_ref[\"Reference\"].nunique()"
   ]
  },
  {
   "cell_type": "code",
   "execution_count": 64,
   "id": "ca6d5e81-9c7e-492d-b3dd-e46b5c7a9f8a",
   "metadata": {},
   "outputs": [
    {
     "data": {
      "text/html": [
       "<div>\n",
       "<style scoped>\n",
       "    .dataframe tbody tr th:only-of-type {\n",
       "        vertical-align: middle;\n",
       "    }\n",
       "\n",
       "    .dataframe tbody tr th {\n",
       "        vertical-align: top;\n",
       "    }\n",
       "\n",
       "    .dataframe thead th {\n",
       "        text-align: right;\n",
       "    }\n",
       "</style>\n",
       "<table border=\"1\" class=\"dataframe\">\n",
       "  <thead>\n",
       "    <tr style=\"text-align: right;\">\n",
       "      <th></th>\n",
       "      <th>Query</th>\n",
       "      <th>A</th>\n",
       "      <th>B</th>\n",
       "      <th>C</th>\n",
       "      <th>ID_ABC</th>\n",
       "      <th>ID_AB</th>\n",
       "      <th>ID_A</th>\n",
       "    </tr>\n",
       "  </thead>\n",
       "  <tbody>\n",
       "    <tr>\n",
       "      <th>0</th>\n",
       "      <td>国民年金の免除申請をしたいのですが、申請に必要な持ち物は何を持っていけば良いですか？</td>\n",
       "      <td>71 87</td>\n",
       "      <td>469</td>\n",
       "      <td>36</td>\n",
       "      <td>[71, 87, 469, 36]</td>\n",
       "      <td>[71, 87, 469]</td>\n",
       "      <td>[71, 87]</td>\n",
       "    </tr>\n",
       "    <tr>\n",
       "      <th>1</th>\n",
       "      <td>忍たま乱太郎の施設などはオープンしないのですか</td>\n",
       "      <td></td>\n",
       "      <td>1770 1769</td>\n",
       "      <td></td>\n",
       "      <td>[1770, 1769]</td>\n",
       "      <td>[1770, 1769]</td>\n",
       "      <td>[]</td>\n",
       "    </tr>\n",
       "    <tr>\n",
       "      <th>2</th>\n",
       "      <td>人口が伸び悩む尼崎市ですが、明石市の様な子ども医療費助成を取り入れる計画はありますか？</td>\n",
       "      <td></td>\n",
       "      <td></td>\n",
       "      <td>593 375</td>\n",
       "      <td>[593, 375]</td>\n",
       "      <td>[]</td>\n",
       "      <td>[]</td>\n",
       "    </tr>\n",
       "    <tr>\n",
       "      <th>3</th>\n",
       "      <td>戸籍謄本の発行をして欲しいのですが、代金はいくらかかかりますか？</td>\n",
       "      <td>119 386</td>\n",
       "      <td></td>\n",
       "      <td>19 1131 883 42</td>\n",
       "      <td>[119, 386, 19, 1131, 883, 42]</td>\n",
       "      <td>[119, 386]</td>\n",
       "      <td>[119, 386]</td>\n",
       "    </tr>\n",
       "    <tr>\n",
       "      <th>4</th>\n",
       "      <td>原付の登録をしようと思っています。登録にかかる料金と必要な持ち物が知りたいので教えてください。</td>\n",
       "      <td>191</td>\n",
       "      <td>32 73</td>\n",
       "      <td>192</td>\n",
       "      <td>[191, 32, 73, 192]</td>\n",
       "      <td>[191, 32, 73]</td>\n",
       "      <td>[191]</td>\n",
       "    </tr>\n",
       "  </tbody>\n",
       "</table>\n",
       "</div>"
      ],
      "text/plain": [
       "                                             Query        A          B               C  \\\n",
       "0       国民年金の免除申請をしたいのですが、申請に必要な持ち物は何を持っていけば良いですか？    71 87        469              36   \n",
       "1                          忍たま乱太郎の施設などはオープンしないのですか           1770 1769                   \n",
       "2      人口が伸び悩む尼崎市ですが、明石市の様な子ども医療費助成を取り入れる計画はありますか？                             593 375   \n",
       "3                 戸籍謄本の発行をして欲しいのですが、代金はいくらかかかりますか？  119 386             19 1131 883 42   \n",
       "4  原付の登録をしようと思っています。登録にかかる料金と必要な持ち物が知りたいので教えてください。      191      32 73             192   \n",
       "\n",
       "                          ID_ABC          ID_AB        ID_A  \n",
       "0              [71, 87, 469, 36]  [71, 87, 469]    [71, 87]  \n",
       "1                   [1770, 1769]   [1770, 1769]          []  \n",
       "2                     [593, 375]             []          []  \n",
       "3  [119, 386, 19, 1131, 883, 42]     [119, 386]  [119, 386]  \n",
       "4             [191, 32, 73, 192]  [191, 32, 73]       [191]  "
      ]
     },
     "execution_count": 64,
     "metadata": {},
     "output_type": "execute_result"
    }
   ],
   "source": [
    "df_qa.head()"
   ]
  },
  {
   "cell_type": "markdown",
   "id": "f9e198e4-c370-4fc7-a90d-908ced111d8d",
   "metadata": {},
   "source": [
    "## 5. 保存"
   ]
  },
  {
   "cell_type": "code",
   "execution_count": 69,
   "id": "42a3678f-25e3-4b26-853a-739c98894e3e",
   "metadata": {},
   "outputs": [],
   "source": [
    "dataset_dir = \"./dataset/04_Amagasaki\"\n",
    "os.makedirs(dataset_dir)\n",
    "df_ref.to_csv(\"./dataset/04_Amagasaki/Reference.csv\")\n",
    "df_qa.to_csv(\"./dataset/04_Amagasaki/QA.csv\")"
   ]
  },
  {
   "cell_type": "code",
   "execution_count": 53,
   "id": "6d1c4ab1-d8bb-4dcd-b5a8-6863b09d2538",
   "metadata": {},
   "outputs": [],
   "source": [
    "# df_ref.shape,df_ref[\"ID\"].nunique()"
   ]
  },
  {
   "cell_type": "code",
   "execution_count": null,
   "id": "83795c26-49f8-46b6-aa4f-f9882da5725a",
   "metadata": {},
   "outputs": [],
   "source": []
  },
  {
   "cell_type": "code",
   "execution_count": null,
   "id": "fad3de4d-1e4d-4fca-9530-eb25a207c609",
   "metadata": {},
   "outputs": [],
   "source": []
  }
 ],
 "metadata": {
  "kernelspec": {
   "display_name": "Python 3 (ipykernel)",
   "language": "python",
   "name": "python3"
  },
  "language_info": {
   "codemirror_mode": {
    "name": "ipython",
    "version": 3
   },
   "file_extension": ".py",
   "mimetype": "text/x-python",
   "name": "python",
   "nbconvert_exporter": "python",
   "pygments_lexer": "ipython3",
   "version": "3.12.4"
  }
 },
 "nbformat": 4,
 "nbformat_minor": 5
}
